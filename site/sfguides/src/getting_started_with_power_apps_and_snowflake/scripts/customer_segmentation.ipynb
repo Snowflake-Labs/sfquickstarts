{
 "cells": [
  {
   "cell_type": "code",
   "execution_count": null,
   "id": "3775908f-ca36-4846-8f38-5adca39217f2",
   "metadata": {
    "collapsed": false,
    "language": "python",
    "name": "Libraries"
   },
   "outputs": [
    {
     "ename": "",
     "evalue": "",
     "output_type": "error",
     "traceback": [
      "\u001b[1;31mRunning cells with 'Python 3.12.9' requires the ipykernel package.\n",
      "\u001b[1;31mRun the following command to install 'ipykernel' into the Python environment. \n",
      "\u001b[1;31mCommand: '/opt/homebrew/bin/python3.12 -m pip install ipykernel -U --user --force-reinstall'"
     ]
    }
   ],
   "source": [
    "# Import python packages\n",
    "import streamlit as st\n",
    "import pandas as pd\n",
    "import numpy as np \n",
    "import warnings; warnings.simplefilter('ignore') \n",
    "from snowflake.snowpark.version import VERSION \n",
    "from snowflake.ml.registry import Registry\n",
    "\n",
    "# We can also use Snowpark for our analyses!\n",
    "from snowflake.snowpark.context import get_active_session\n",
    "from sklearn.preprocessing import StandardScaler \n",
    "from snowflake.ml.modeling.cluster import KMeans \n",
    "session = get_active_session()\n"
   ]
  },
  {
   "cell_type": "code",
   "execution_count": null,
   "id": "966549bd-000f-4132-ae9b-2009c0c8f041",
   "metadata": {
    "collapsed": false,
    "language": "python",
    "name": "cell8"
   },
   "outputs": [],
   "source": [
    "snowpark_version = VERSION\n",
    "print('Snowpark for Python version : {}.{}.{}'.format(snowpark_version[0],snowpark_version[1],snowpark_version[2]))"
   ]
  },
  {
   "cell_type": "code",
   "execution_count": null,
   "id": "8d50cbf4-0c8d-4950-86cb-114990437ac9",
   "metadata": {
    "collapsed": false,
    "language": "python",
    "name": "cell2"
   },
   "outputs": [],
   "source": [
    "USE DATABASE hol_db;\n",
    "USE SCHEMA public;\n",
    "df = session.sql('select * from CUSTOMER_PRESEGMENT')\n",
    "df.show()"
   ]
  },
  {
   "cell_type": "code",
   "execution_count": null,
   "id": "e6a08f6d-e79e-44eb-9b0d-2db6bf825a39",
   "metadata": {
    "collapsed": false,
    "language": "python",
    "name": "cell9"
   },
   "outputs": [],
   "source": [
    "from kmodes.kmodes import KModes\n",
    "clusters = 3\n",
    "\n",
    "pd_df = df.to_pandas()\n",
    "pd_df.head()\n",
    "kmodes_model = KModes(n_clusters = clusters, init = 'Huang', random_state = 0)\n",
    "kmodes_model.fit(pd_df)"
   ]
  },
  {
   "cell_type": "code",
   "execution_count": null,
   "id": "a964cf04-47c6-40e8-88d2-4acdb6f3c44e",
   "metadata": {
    "collapsed": false,
    "language": "python",
    "name": "cell10"
   },
   "outputs": [],
   "source": [
    "import matplotlib.pyplot as plt\n",
    "# Elbow curve to find optimal K\n",
    "cost = []\n",
    "K = range(1,5)\n",
    "for num_clusters in list(K):\n",
    "    kmode = KModes(n_clusters=num_clusters, init = \"random\", n_init = 5, verbose=1)\n",
    "    kmode.fit_predict(pd_df)\n",
    "    cost.append(kmode.cost_)\n",
    "    \n",
    "plt.plot(K, cost, 'bx-')\n",
    "plt.xlabel('No. of clusters')\n",
    "plt.ylabel('Cost')\n",
    "plt.title('Elbow Method For Optimal k')\n",
    "plt.show()"
   ]
  },
  {
   "cell_type": "code",
   "execution_count": null,
   "id": "fd764069-23cc-4a98-a4de-b9ea3180b8d2",
   "metadata": {
    "collapsed": false,
    "language": "python",
    "name": "cell11"
   },
   "outputs": [],
   "source": [
    "# Get sample input data to pass into the registry logging function\n",
    "snowpark_df = session.create_dataframe(pd_df)\n",
    "X = snowpark_df.limit(100)\n",
    "\n",
    "db = session.get_current_database()\n",
    "schema = session.get_current_schema()\n",
    "\n",
    "# Define model name\n",
    "model_name = \"KMODES_MODEL_9_9_2024\"\n",
    "\n",
    "# Create a registry and log the model\n",
    "native_registry = Registry(session=session, database_name=db, schema_name=schema)\n",
    "\n",
    "# delete model\n",
    "#native_registry.delete_model(model_name)\n",
    "\n",
    "# Let's first log the very first model we trained\n",
    "model_ver = native_registry.log_model(\n",
    "    model_name=model_name,\n",
    "    model=kmodes_model,\n",
    "    sample_input_data=X, # to provide the feature schema\n",
    "    conda_dependencies=['kmodes']\n",
    ")\n",
    "\n",
    "# Add evaluation metric\n",
    "# model_ver.set_metric(metric_name=\"mean_abs_pct_err\", value=mape)\n",
    "\n",
    "# Add a description\n",
    "model_ver.comment = \"This is the KMODES model with 3 clusters. \""
   ]
  },
  {
   "cell_type": "code",
   "execution_count": null,
   "id": "2f6007d7-9226-4642-ae5a-627fe0eceb08",
   "metadata": {
    "collapsed": false,
    "language": "python",
    "name": "cell12"
   },
   "outputs": [],
   "source": [
    "native_registry.get_model(model_name).default.version_name"
   ]
  },
  {
   "cell_type": "code",
   "execution_count": null,
   "id": "d44398f5-4644-4dac-a782-93b3e0c375fe",
   "metadata": {
    "collapsed": false,
    "language": "python",
    "name": "cell13"
   },
   "outputs": [],
   "source": [
    "# Data Scientist will run the model on a sample Test Data to see if it works as expected\n",
    "model_ver = native_registry.get_model(model_name).version('v0')\n",
    "result_sdf2 = model_ver.run(snowpark_df, function_name=\"predict\")\n",
    "result_sdf2.limit(100).to_pandas().head()"
   ]
  }
 ],
 "metadata": {
  "kernelspec": {
   "display_name": "Python 3",
   "language": "python",
   "name": "python3"
  },
  "language_info": {
   "name": "python",
   "version": "3.12.9"
  },
  "lastEditStatus": {
   "authorEmail": "cmohan.nayak@gmail.com",
   "authorId": "5062804456650",
   "authorName": "ADMIN",
   "lastEditTime": 1740437529530,
   "notebookId": "pmhtja2py6igqcfqvoen",
   "sessionId": "2f5104db-ab52-4c20-87be-3cb7a95efe56"
  }
 },
 "nbformat": 4,
 "nbformat_minor": 5
}
