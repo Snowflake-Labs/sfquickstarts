{
 "metadata": {
  "kernelspec": {
   "display_name": "Streamlit Notebook",
   "name": "streamlit"
  },
  "lastEditStatus": {
   "notebookId": "pmhtja2py6igqcfqvoen",
   "authorId": "5062804456650",
   "authorName": "ADMIN",
   "authorEmail": "cmohan.nayak@gmail.com",
   "sessionId": "2f5104db-ab52-4c20-87be-3cb7a95efe56",
   "lastEditTime": 1740437529530
  }
 },
 "nbformat_minor": 5,
 "nbformat": 4,
 "cells": [
  {
   "cell_type": "code",
   "id": "3775908f-ca36-4846-8f38-5adca39217f2",
   "metadata": {
    "language": "python",
    "name": "Libraries",
    "collapsed": false
   },
   "source": "# Import python packages\nimport streamlit as st\nimport pandas as pd\nimport numpy as np \nimport warnings; warnings.simplefilter('ignore') \nfrom snowflake.snowpark.version import VERSION \nfrom snowflake.ml.registry import Registry\n\n# We can also use Snowpark for our analyses!\nfrom snowflake.snowpark.context import get_active_session\nfrom sklearn.preprocessing import StandardScaler \nfrom snowflake.ml.modeling.cluster import KMeans \nsession = get_active_session()\n",
   "execution_count": null,
   "outputs": []
  },
  {
   "cell_type": "code",
   "id": "966549bd-000f-4132-ae9b-2009c0c8f041",
   "metadata": {
    "language": "python",
    "name": "cell8",
    "collapsed": false
   },
   "outputs": [],
   "source": "snowpark_version = VERSION\nprint('Snowpark for Python version : {}.{}.{}'.format(snowpark_version[0],snowpark_version[1],snowpark_version[2]))",
   "execution_count": null
  },
  {
   "cell_type": "code",
   "id": "8d50cbf4-0c8d-4950-86cb-114990437ac9",
   "metadata": {
    "language": "python",
    "name": "cell2",
    "collapsed": false
   },
   "source": "USE DATABASE hol_db;\nUSE SCHEMA public;\ndf = session.sql('select * from CUSTOMER_PRESEGMENT')\ndf.show()",
   "execution_count": null,
   "outputs": []
  },
  {
   "cell_type": "code",
   "id": "e6a08f6d-e79e-44eb-9b0d-2db6bf825a39",
   "metadata": {
    "language": "python",
    "name": "cell9",
    "collapsed": false
   },
   "outputs": [],
   "source": "from kmodes.kmodes import KModes\nclusters = 3\n\npd_df = df.to_pandas()\npd_df.head()\nkmodes_model = KModes(n_clusters = clusters, init = 'Huang', random_state = 0)\nkmodes_model.fit(pd_df)",
   "execution_count": null
  },
  {
   "cell_type": "code",
   "id": "a964cf04-47c6-40e8-88d2-4acdb6f3c44e",
   "metadata": {
    "language": "python",
    "name": "cell10",
    "collapsed": false
   },
   "outputs": [],
   "source": "import matplotlib.pyplot as plt\n# Elbow curve to find optimal K\ncost = []\nK = range(1,5)\nfor num_clusters in list(K):\n    kmode = KModes(n_clusters=num_clusters, init = \"random\", n_init = 5, verbose=1)\n    kmode.fit_predict(pd_df)\n    cost.append(kmode.cost_)\n    \nplt.plot(K, cost, 'bx-')\nplt.xlabel('No. of clusters')\nplt.ylabel('Cost')\nplt.title('Elbow Method For Optimal k')\nplt.show()",
   "execution_count": null
  },
  {
   "cell_type": "code",
   "id": "fd764069-23cc-4a98-a4de-b9ea3180b8d2",
   "metadata": {
    "language": "python",
    "name": "cell11",
    "collapsed": false
   },
   "outputs": [],
   "source": "# Get sample input data to pass into the registry logging function\nsnowpark_df = session.create_dataframe(pd_df)\nX = snowpark_df.limit(100)\n\ndb = session.get_current_database()\nschema = session.get_current_schema()\n\n# Define model name\nmodel_name = \"KMODES_MODEL_9_9_2024\"\n\n# Create a registry and log the model\nnative_registry = Registry(session=session, database_name=db, schema_name=schema)\n\n# delete model\n#native_registry.delete_model(model_name)\n\n# Let's first log the very first model we trained\nmodel_ver = native_registry.log_model(\n    model_name=model_name,\n    model=kmodes_model,\n    sample_input_data=X, # to provide the feature schema\n    conda_dependencies=['kmodes']\n)\n\n# Add evaluation metric\n# model_ver.set_metric(metric_name=\"mean_abs_pct_err\", value=mape)\n\n# Add a description\nmodel_ver.comment = \"This is the KMODES model with 2 clusters. \"",
   "execution_count": null
  },
  {
   "cell_type": "code",
   "id": "2f6007d7-9226-4642-ae5a-627fe0eceb08",
   "metadata": {
    "language": "python",
    "name": "cell12",
    "collapsed": false
   },
   "outputs": [],
   "source": "native_registry.get_model(model_name).default.version_name",
   "execution_count": null
  },
  {
   "cell_type": "code",
   "id": "d44398f5-4644-4dac-a782-93b3e0c375fe",
   "metadata": {
    "language": "python",
    "name": "cell13",
    "collapsed": false
   },
   "outputs": [],
   "source": "model_ver = native_registry.get_model(model_name).version('v0')\nresult_sdf2 = model_ver.run(snowpark_df, function_name=\"predict\")\nresult_sdf2.limit(100).to_pandas().head()",
   "execution_count": null
  },
  {
   "cell_type": "code",
   "id": "f4af95f0-a58b-42ed-84db-45e841e54ad4",
   "metadata": {
    "language": "python",
    "name": "cell15",
    "collapsed": false
   },
   "outputs": [],
   "source": "# session.sql(f\"CREATE OR REPLACE TABLE CUSTOMER_SEGMENTS AS SELECT a.*, KMODES_MODEL_9_9_2024!predict(a.* )['output_feature_0'] as prediction from CUSTOMER_PRESEGMENT a\")\n# df.write.saveAsTable(\"CUSTOMER_SEGMENTS\", mode=\"overwrite\", enable_schema_evolution=True)\n# df.limit(100).to_pandas().head()",
   "execution_count": null
  },
  {
   "cell_type": "code",
   "id": "4079a6a8-5d6a-4b07-80df-dec4e4557dcb",
   "metadata": {
    "language": "python",
    "name": "cell4",
    "collapsed": false
   },
   "outputs": [],
   "source": "# response_df = session.sql(f\"select * from customer_segments\")\n# response_df.show(10)",
   "execution_count": null
  }
 ]
}