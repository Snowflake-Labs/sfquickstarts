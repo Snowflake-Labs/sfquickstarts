{
 "cells": [
  {
   "cell_type": "code",
   "execution_count": 6,
   "metadata": {},
   "outputs": [],
   "source": [
    "#Optional step to delete session if you get an error that multiple sessions are open\n",
    "# del session"
   ]
  },
  {
   "cell_type": "markdown",
   "metadata": {},
   "source": [
    "# Initialize Notebook, import libraries and create Snowflake connection"
   ]
  },
  {
   "cell_type": "code",
   "execution_count": 1,
   "metadata": {},
   "outputs": [
    {
     "name": "stdout",
     "output_type": "stream",
     "text": [
      "Intel MKL WARNING: Support of Intel(R) Streaming SIMD Extensions 4.2 (Intel(R) SSE4.2) enabled only processors has been deprecated. Intel oneAPI Math Kernel Library 2025.0 will require Intel(R) Advanced Vector Extensions (Intel(R) AVX) instructions.\n",
      "Intel MKL WARNING: Support of Intel(R) Streaming SIMD Extensions 4.2 (Intel(R) SSE4.2) enabled only processors has been deprecated. Intel oneAPI Math Kernel Library 2025.0 will require Intel(R) Advanced Vector Extensions (Intel(R) AVX) instructions.\n",
      "-----------------------------------------------------------------------------\n",
      "|\"ACCT\"                    |\"WH\"        |\"DB\"        |\"SCHEMA\"  |\"VERSION\"  |\n",
      "-----------------------------------------------------------------------------\n",
      "|SFSENORTHAMERICA_DEMO222  |COMPUTE_WH  |SUMMIT_HOL  |PUBLIC    |7.31.2     |\n",
      "-----------------------------------------------------------------------------\n",
      "\n"
     ]
    }
   ],
   "source": [
    "from snowflake.snowpark.session import Session\n",
    "from snowflake.snowpark.types import IntegerType, FloatType\n",
    "from snowflake.snowpark.functions import avg, sum, col, udf, call_udf, call_builtin, year, month\n",
    "import streamlit as st\n",
    "import pandas as pd\n",
    "from datetime import date\n",
    "\n",
    "# scikit-learn (install: pip install -U scikit-learn)\n",
    "from sklearn.linear_model import LinearRegression\n",
    "\n",
    "# Session\n",
    "connection_parameters = {\n",
    "   \"account\": \"SFSENORTHAMERICA_DEMO222\",\n",
    "   \"user\": \"vinay\",\n",
    "   \"password\": \"Vigyan2020\",\n",
    "   \"warehouse\": \"compute_wh\",\n",
    "   \"role\": \"accountadmin\",\n",
    "   \"database\": \"summit_hol\",\n",
    "   \"schema\": \"public\"\n",
    "}\n",
    "session = Session.builder.configs(connection_parameters).create()\n",
    "\n",
    "\n",
    "# test if we have a connection\n",
    "session.sql(\"select current_account() acct, current_warehouse() wh, current_database() db, current_schema() schema, current_version() version\").show()\n"
   ]
  },
  {
   "cell_type": "markdown",
   "metadata": {},
   "source": [
    "# Query the data"
   ]
  },
  {
   "cell_type": "code",
   "execution_count": 2,
   "metadata": {},
   "outputs": [
    {
     "name": "stdout",
     "output_type": "stream",
     "text": [
      "------------------------------------------------------\n",
      "|\"VARIABLE_NAME\"                                     |\n",
      "------------------------------------------------------\n",
      "|Consumer Loans: Other Consumer Loans, Domestica...  |\n",
      "|Liabilities and Capital: Liabilities: Deposits:...  |\n",
      "|Malaysian Ringgit to U.S. Dollar Spot Exchange ...  |\n",
      "|Total Fed Funds Sold and Securities Purchased U...  |\n",
      "|Assets: Liquidity and Credit Facilities: Munici...  |\n",
      "|Liabilities and Capital: Liabilities: Total Lia...  |\n",
      "|Deposits, All Commercial Banks, Not seasonally ...  |\n",
      "|Average Hourly Earnings of All Employees, Minin...  |\n",
      "|Treasury and Agency Securities: Mortgage-Backed...  |\n",
      "|Liabilities and Capital: Liabilities: Federal R...  |\n",
      "------------------------------------------------------\n",
      "\n",
      "--------------\n",
      "|\"COUNT(*)\"  |\n",
      "--------------\n",
      "|2130586     |\n",
      "--------------\n",
      "\n"
     ]
    }
   ],
   "source": [
    "# SQL queries to explore the data\n",
    "\n",
    "# What financial data is available as a time-series from FRED?\n",
    "session.sql(\"SELECT DISTINCT variable_name FROM CYBERSYN_FINANCIAL__ECONOMIC_ESSENTIALS.CYBERSYN.FINANCIAL_FRED_TIMESERIES\").show()\n",
    "\n",
    "# What is the size of all the time-series data?\n",
    "session.sql(\"SELECT COUNT(*) FROM CYBERSYN_FINANCIAL__ECONOMIC_ESSENTIALS.CYBERSYN.FINANCIAL_FRED_TIMESERIES\").show()"
   ]
  },
  {
   "cell_type": "code",
   "execution_count": 4,
   "metadata": {},
   "outputs": [
    {
     "ename": "AttributeError",
     "evalue": "'DataFrame' object has no attribute 'show'",
     "output_type": "error",
     "traceback": [
      "\u001b[0;31m---------------------------------------------------------------------------\u001b[0m",
      "\u001b[0;31mAttributeError\u001b[0m                            Traceback (most recent call last)",
      "\u001b[0;32m/var/folders/96/v9cxnpcs0ml5rrg5h5j970380000gn/T/ipykernel_69679/1749655388.py\u001b[0m in \u001b[0;36m?\u001b[0;34m()\u001b[0m\n\u001b[1;32m      3\u001b[0m                \u001b[0;34m.\u001b[0m\u001b[0mfilter\u001b[0m\u001b[0;34m(\u001b[0m\u001b[0mcol\u001b[0m\u001b[0;34m(\u001b[0m\u001b[0;34m'VARIABLE_NAME'\u001b[0m\u001b[0;34m)\u001b[0m \u001b[0;34m==\u001b[0m \u001b[0;34m'Personal Consumption Expenditures: Chain-type Price Index, Seasonally adjusted, Monthly, Index 2012=100'\u001b[0m\u001b[0;34m)\u001b[0m\u001b[0;34m\u001b[0m\u001b[0;34m\u001b[0m\u001b[0m\n\u001b[1;32m      4\u001b[0m                \u001b[0;34m.\u001b[0m\u001b[0mfilter\u001b[0m\u001b[0;34m(\u001b[0m\u001b[0mcol\u001b[0m\u001b[0;34m(\u001b[0m\u001b[0;34m'DATE'\u001b[0m\u001b[0;34m)\u001b[0m \u001b[0;34m>=\u001b[0m \u001b[0;34m'1972-01-01'\u001b[0m\u001b[0;34m)\u001b[0m\u001b[0;34m\u001b[0m\u001b[0;34m\u001b[0m\u001b[0m\n\u001b[1;32m      5\u001b[0m                .filter(month(col('DATE')) == 1))\n\u001b[1;32m      6\u001b[0m \u001b[0mpd_df_pce_year\u001b[0m \u001b[0;34m=\u001b[0m \u001b[0msnow_df_pce\u001b[0m\u001b[0;34m.\u001b[0m\u001b[0mselect\u001b[0m\u001b[0;34m(\u001b[0m\u001b[0myear\u001b[0m\u001b[0;34m(\u001b[0m\u001b[0mcol\u001b[0m\u001b[0;34m(\u001b[0m\u001b[0;34m\"DATE\"\u001b[0m\u001b[0;34m)\u001b[0m\u001b[0;34m)\u001b[0m\u001b[0;34m.\u001b[0m\u001b[0malias\u001b[0m\u001b[0;34m(\u001b[0m\u001b[0;34m'\"Year\"'\u001b[0m\u001b[0;34m)\u001b[0m\u001b[0;34m,\u001b[0m \u001b[0mcol\u001b[0m\u001b[0;34m(\u001b[0m\u001b[0;34m'VALUE'\u001b[0m\u001b[0;34m)\u001b[0m\u001b[0;34m.\u001b[0m\u001b[0malias\u001b[0m\u001b[0;34m(\u001b[0m\u001b[0;34m'PCE'\u001b[0m\u001b[0;34m)\u001b[0m\u001b[0;34m)\u001b[0m\u001b[0;34m.\u001b[0m\u001b[0morderBy\u001b[0m\u001b[0;34m(\u001b[0m\u001b[0mcol\u001b[0m\u001b[0;34m(\u001b[0m\u001b[0;34m'DATE'\u001b[0m\u001b[0;34m)\u001b[0m\u001b[0;34m)\u001b[0m\u001b[0;34m.\u001b[0m\u001b[0mto_pandas\u001b[0m\u001b[0;34m(\u001b[0m\u001b[0;34m)\u001b[0m\u001b[0;34m\u001b[0m\u001b[0;34m\u001b[0m\u001b[0m\n\u001b[0;32m----> 7\u001b[0;31m \u001b[0mpd_df_pce_year\u001b[0m\u001b[0;34m.\u001b[0m\u001b[0mshow\u001b[0m\u001b[0;34m(\u001b[0m\u001b[0;34m)\u001b[0m\u001b[0;34m\u001b[0m\u001b[0;34m\u001b[0m\u001b[0m\n\u001b[0m",
      "\u001b[0;32m~/anaconda3/envs/snowpark_py310/lib/python3.10/site-packages/pandas/core/generic.py\u001b[0m in \u001b[0;36m?\u001b[0;34m(self, name)\u001b[0m\n\u001b[1;32m   5985\u001b[0m             \u001b[0;32mand\u001b[0m \u001b[0mname\u001b[0m \u001b[0;32mnot\u001b[0m \u001b[0;32min\u001b[0m \u001b[0mself\u001b[0m\u001b[0;34m.\u001b[0m\u001b[0m_accessors\u001b[0m\u001b[0;34m\u001b[0m\u001b[0;34m\u001b[0m\u001b[0m\n\u001b[1;32m   5986\u001b[0m             \u001b[0;32mand\u001b[0m \u001b[0mself\u001b[0m\u001b[0;34m.\u001b[0m\u001b[0m_info_axis\u001b[0m\u001b[0;34m.\u001b[0m\u001b[0m_can_hold_identifiers_and_holds_name\u001b[0m\u001b[0;34m(\u001b[0m\u001b[0mname\u001b[0m\u001b[0;34m)\u001b[0m\u001b[0;34m\u001b[0m\u001b[0;34m\u001b[0m\u001b[0m\n\u001b[1;32m   5987\u001b[0m         ):\n\u001b[1;32m   5988\u001b[0m             \u001b[0;32mreturn\u001b[0m \u001b[0mself\u001b[0m\u001b[0;34m[\u001b[0m\u001b[0mname\u001b[0m\u001b[0;34m]\u001b[0m\u001b[0;34m\u001b[0m\u001b[0;34m\u001b[0m\u001b[0m\n\u001b[0;32m-> 5989\u001b[0;31m         \u001b[0;32mreturn\u001b[0m \u001b[0mobject\u001b[0m\u001b[0;34m.\u001b[0m\u001b[0m__getattribute__\u001b[0m\u001b[0;34m(\u001b[0m\u001b[0mself\u001b[0m\u001b[0;34m,\u001b[0m \u001b[0mname\u001b[0m\u001b[0;34m)\u001b[0m\u001b[0;34m\u001b[0m\u001b[0;34m\u001b[0m\u001b[0m\n\u001b[0m",
      "\u001b[0;31mAttributeError\u001b[0m: 'DataFrame' object has no attribute 'show'"
     ]
    }
   ],
   "source": [
    "# Now use Snowpark dataframe\n",
    "snow_df_pce = (session.table(\"CYBERSYN_FINANCIAL__ECONOMIC_ESSENTIALS.CYBERSYN.FINANCIAL_FRED_TIMESERIES\")\n",
    "               .filter(col('VARIABLE_NAME') == 'Personal Consumption Expenditures: Chain-type Price Index, Seasonally adjusted, Monthly, Index 2012=100')\n",
    "               .filter(col('DATE') >= '1972-01-01')\n",
    "               .filter(month(col('DATE')) == 1))\n",
    "pd_df_pce_year = snow_df_pce.select(year(col(\"DATE\")).alias('\"Year\"'), col('VALUE').alias('PCE')).orderBy(col('DATE')).to_pandas()\n",
    "pd_df_pce_year\n"
   ]
  },
  {
   "cell_type": "markdown",
   "metadata": {},
   "source": [
    "# Train the Linear Regression model"
   ]
  },
  {
   "cell_type": "code",
   "execution_count": null,
   "metadata": {},
   "outputs": [],
   "source": [
    "# train model with PCE index\n",
    "\n",
    "x = pd_df_pce_year[\"Year\"].to_numpy().reshape(-1,1)\n",
    "y = pd_df_pce_year[\"PCE\"].to_numpy()\n",
    "\n",
    "model = LinearRegression().fit(x, y)\n",
    "\n",
    "# test model for 2022\n",
    "predictYear = 2022\n",
    "pce_pred = model.predict([[predictYear]])\n",
    "# print the last 5 years\n",
    "print (pd_df_pce_year.tail() )\n",
    "# run the prediction for 2022\n",
    "print ('Prediction for '+str(predictYear)+': '+ str(round(pce_pred[0],2)))\n"
   ]
  },
  {
   "cell_type": "markdown",
   "metadata": {},
   "source": [
    "### Creating a User Defined Function within Snowflake to do the scoring there"
   ]
  },
  {
   "cell_type": "code",
   "execution_count": 63,
   "metadata": {},
   "outputs": [],
   "source": [
    "def predict_pce(predictYear: int) -> float:\n",
    "    return model.predict([[predictYear]])[0].round(2).astype(float)\n",
    "\n",
    "_ = session.udf.register(predict_pce,\n",
    "                        return_type=FloatType(),\n",
    "                        input_type=IntegerType(),\n",
    "                        packages= [\"pandas\",\"scikit-learn\"],\n",
    "                        is_permanent=True, \n",
    "                        name=\"predict_pce_udf\", \n",
    "                        replace=True,\n",
    "                        stage_location=\"@udf_stage\")"
   ]
  },
  {
   "cell_type": "markdown",
   "metadata": {},
   "source": [
    "# Test the trained model by invoking the UDF via a SQL statement"
   ]
  },
  {
   "cell_type": "code",
   "execution_count": null,
   "metadata": {},
   "outputs": [],
   "source": [
    "session.sql(\"select predict_pce_udf(2022)\").show()\n"
   ]
  }
 ],
 "metadata": {
  "interpreter": {
   "hash": "5b98838a36a1bf359ee115d54329302090fcdf6f49377588f49b385a9a18b1c4"
  },
  "kernelspec": {
   "display_name": "Python 3.8.13 ('snowpark')",
   "language": "python",
   "name": "python3"
  },
  "language_info": {
   "codemirror_mode": {
    "name": "ipython",
    "version": 3
   },
   "file_extension": ".py",
   "mimetype": "text/x-python",
   "name": "python",
   "nbconvert_exporter": "python",
   "pygments_lexer": "ipython3",
   "version": "3.10.12"
  },
  "orig_nbformat": 4
 },
 "nbformat": 4,
 "nbformat_minor": 2
}
