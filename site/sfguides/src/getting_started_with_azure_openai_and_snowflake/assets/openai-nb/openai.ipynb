{
  "cells": [
    {
      "cell_type": "code",
      "source": [
        "# uncomment the below lines of code and run once to install packages needed for this lab\n",
        "#!pip install snowflake-snowpark-python pandas notebook scikit-learn cachetools pyarrow==10.0.1\n",
        "#!pip install azure-ai-ml\n",
        "#!pip install mltable"
      ],
      "outputs": [],
      "execution_count": null,
      "metadata": {
        "jupyter": {
          "source_hidden": false,
          "outputs_hidden": false
        },
        "nteract": {
          "transient": {
            "deleting": false
          }
        }
      }
    },
    {
      "cell_type": "code",
      "source": [
        "from azure.ai.ml import MLClient\n",
        "from azure.identity import DefaultAzureCredential\n",
        "\n",
        "# authenticate\n",
        "credential = DefaultAzureCredential()\n",
        "# # Get a handle to the workspace\n",
        "ml_client = MLClient(\n",
        "    credential=credential,\n",
        "    subscription_id=\"<azure subscription number>\",\n",
        "    resource_group_name=\"<resource group name>\",\n",
        "    workspace_name=\"<azureml workspace name>\",\n",
        ")"
      ],
      "outputs": [],
      "execution_count": 2,
      "metadata": {
        "gather": {
          "logged": 1693500030868
        }
      }
    },
    {
      "cell_type": "code",
      "source": [
        "import mltable\n",
        "from azure.ai.ml import MLClient\n",
        "from azure.identity import DefaultAzureCredential\n",
        "\n",
        "# get the latest version of the data asset\n",
        "# Note: The version was set in the previous code cell.\n",
        "data_asset = ml_client.data.get(name=\"purchasehistory\", version=\"1\")\n",
        "# create a table\n",
        "tbl = mltable.load(f\"azureml:/{data_asset.id}\")\n",
        "df = tbl.to_pandas_dataframe()\n",
        "df['MED_AGE'] = df['MED_AGE'].apply(str)\n",
        "df"
      ],
      "outputs": [
        {
          "output_type": "execute_result",
          "execution_count": 3,
          "data": {
            "text/plain": "   ID                                   RECENT_PURCHASES    ZIP MED_AGE\n0   1             1 Gallon Milk, 24 oz Bread, Dozen Eggs  35404      29\n1   2         16 oz Toothpaste, 12 oz Shampoo, 8 oz Soap  33956      65\n2   3           5 lb Potatoes, 3 lb Onions, 1 lb Carrots  59703      59\n3   4            2 lb Chicken, 1 lb Beef, 0.75 lb Salmon  73043      59\n4   5     18 oz Cereal, 6 oz Yogurt, 1.5 oz Granola Bars  75412      56\n5   6   16 oz Pasta, 24 oz Tomato Sauce, 3 cloves Garlic  15467      53\n6   7  Bunch of Bananas, 1 lb Grapes, 16 oz Strawberries  75217      28\n7   8  8 oz Chips, 16 oz Salsa, 12 oz Guacamole, 10 c...  65622      46\n8   9  6 Rolls Paper Towels, 12 Rolls Toilet Paper, 1...  60546      42\n9  10  1.5 qt Ice Cream, 12 inch Frozen Pizza, 16 oz ...   1002      23",
            "text/html": "<div>\n<style scoped>\n    .dataframe tbody tr th:only-of-type {\n        vertical-align: middle;\n    }\n\n    .dataframe tbody tr th {\n        vertical-align: top;\n    }\n\n    .dataframe thead th {\n        text-align: right;\n    }\n</style>\n<table border=\"1\" class=\"dataframe\">\n  <thead>\n    <tr style=\"text-align: right;\">\n      <th></th>\n      <th>ID</th>\n      <th>RECENT_PURCHASES</th>\n      <th>ZIP</th>\n      <th>MED_AGE</th>\n    </tr>\n  </thead>\n  <tbody>\n    <tr>\n      <th>0</th>\n      <td>1</td>\n      <td>1 Gallon Milk, 24 oz Bread, Dozen Eggs</td>\n      <td>35404</td>\n      <td>29</td>\n    </tr>\n    <tr>\n      <th>1</th>\n      <td>2</td>\n      <td>16 oz Toothpaste, 12 oz Shampoo, 8 oz Soap</td>\n      <td>33956</td>\n      <td>65</td>\n    </tr>\n    <tr>\n      <th>2</th>\n      <td>3</td>\n      <td>5 lb Potatoes, 3 lb Onions, 1 lb Carrots</td>\n      <td>59703</td>\n      <td>59</td>\n    </tr>\n    <tr>\n      <th>3</th>\n      <td>4</td>\n      <td>2 lb Chicken, 1 lb Beef, 0.75 lb Salmon</td>\n      <td>73043</td>\n      <td>59</td>\n    </tr>\n    <tr>\n      <th>4</th>\n      <td>5</td>\n      <td>18 oz Cereal, 6 oz Yogurt, 1.5 oz Granola Bars</td>\n      <td>75412</td>\n      <td>56</td>\n    </tr>\n    <tr>\n      <th>5</th>\n      <td>6</td>\n      <td>16 oz Pasta, 24 oz Tomato Sauce, 3 cloves Garlic</td>\n      <td>15467</td>\n      <td>53</td>\n    </tr>\n    <tr>\n      <th>6</th>\n      <td>7</td>\n      <td>Bunch of Bananas, 1 lb Grapes, 16 oz Strawberries</td>\n      <td>75217</td>\n      <td>28</td>\n    </tr>\n    <tr>\n      <th>7</th>\n      <td>8</td>\n      <td>8 oz Chips, 16 oz Salsa, 12 oz Guacamole, 10 c...</td>\n      <td>65622</td>\n      <td>46</td>\n    </tr>\n    <tr>\n      <th>8</th>\n      <td>9</td>\n      <td>6 Rolls Paper Towels, 12 Rolls Toilet Paper, 1...</td>\n      <td>60546</td>\n      <td>42</td>\n    </tr>\n    <tr>\n      <th>9</th>\n      <td>10</td>\n      <td>1.5 qt Ice Cream, 12 inch Frozen Pizza, 16 oz ...</td>\n      <td>1002</td>\n      <td>23</td>\n    </tr>\n  </tbody>\n</table>\n</div>"
          },
          "metadata": {}
        }
      ],
      "execution_count": 3,
      "metadata": {
        "gather": {
          "logged": 1693500077839
        },
        "jupyter": {
          "outputs_hidden": false,
          "source_hidden": false
        },
        "nteract": {
          "transient": {
            "deleting": false
          }
        }
      }
    },
    {
      "cell_type": "code",
      "source": [
        "import pandas as pd\n",
        "import requests\n",
        "import json\n",
        "\n",
        "# Azure OpenAI API endpoint URL\n",
        "endpoint_url = \"<flow endpoint>\"\n",
        "\n",
        "# API key or authentication token for accessing the endpoint\n",
        "api_key = \"<flow endpoint key>\"\n",
        "\n",
        "# Headers for the HTTP request\n",
        "headers = {\n",
        "    \"Authorization\": f\"Bearer {api_key}\",\n",
        "    \"Content-Type\": \"application/json\"\n",
        "}\n",
        "\n",
        "response_data = []\n",
        "\n",
        "# Iterate through rows and make requests\n",
        "for index, row in df.iterrows():\n",
        "    input_purchases = row[\"RECENT_PURCHASES\"]\n",
        "    input_age = row[\"MED_AGE\"]\n",
        "\n",
        "    # Construct payload using the input text\n",
        "    payload = {\n",
        "        \"purchase_history\": input_purchases,\n",
        "        \"med_age\": input_age,\n",
        "        \"max_tokens\": 100\n",
        "    }\n",
        "\n",
        "    # Convert payload to JSON and encode as bytes\n",
        "    payload_bytes = json.dumps(payload).encode(\"utf-8\")\n",
        "\n",
        "    # Send the POST request\n",
        "    response = requests.post(endpoint_url, data=payload_bytes, headers=headers)\n",
        "\n",
        "    # Process the response\n",
        "    if response.status_code == 200:\n",
        "        result = response.json()\n",
        "        generated_text = result.get(\"output\", \"No generated text found\")\n",
        "        response_data.append({\"Input\": input_purchases, \"Generated\": generated_text})\n",
        "    else:\n",
        "        print(f\"Request for '{input_purchases}' failed with status code:\", response.status_code)\n",
        "\n",
        "# Create a DataFrame from the response data list\n",
        "response_df = pd.DataFrame(response_data)\n",
        "response_df['ID'] = df['ID']\n",
        "\n",
        "# Print the resulting DataFrame\n",
        "response_df"
      ],
      "outputs": [
        {
          "output_type": "execute_result",
          "execution_count": 4,
          "data": {
            "text/plain": "                                               Input  \\\n0             1 Gallon Milk, 24 oz Bread, Dozen Eggs   \n1         16 oz Toothpaste, 12 oz Shampoo, 8 oz Soap   \n2           5 lb Potatoes, 3 lb Onions, 1 lb Carrots   \n3            2 lb Chicken, 1 lb Beef, 0.75 lb Salmon   \n4     18 oz Cereal, 6 oz Yogurt, 1.5 oz Granola Bars   \n5   16 oz Pasta, 24 oz Tomato Sauce, 3 cloves Garlic   \n6  Bunch of Bananas, 1 lb Grapes, 16 oz Strawberries   \n7  8 oz Chips, 16 oz Salsa, 12 oz Guacamole, 10 c...   \n8  6 Rolls Paper Towels, 12 Rolls Toilet Paper, 1...   \n9  1.5 qt Ice Cream, 12 inch Frozen Pizza, 16 oz ...   \n\n                                           Generated  ID  \n0          1. Organic Butter\\n2. Avocado\\n3. Granola   1  \n1  1. Mouthwash\\n2. Hair conditioner\\n3. Body lotion   2  \n2  1. Bag of frozen mixed vegetables\\n2. Vegetabl...   3  \n3  1. Fresh herbs and spices\\n2. Organic mixed gr...   4  \n4  1. Multivitamins for seniors\\n2. Whole wheat t...   5  \n5  1. Parmesan cheese \\n2. Chianti wine \\n3. Arti...   6  \n6     1. Watermelon\\n2. Blueberries\\n3. Greek Yogurt   7  \n7  1. 16 oz Beer\\n2. 1 lb Ground Beef\\n3. 8 ct Ho...   8  \n8  1. Disinfectant Wipes\\n2. Hand Soap\\n3. Air Fr...   9  \n9  1. Frozen Chicken Nuggets \\n2. Frozen French F...  10  ",
            "text/html": "<div>\n<style scoped>\n    .dataframe tbody tr th:only-of-type {\n        vertical-align: middle;\n    }\n\n    .dataframe tbody tr th {\n        vertical-align: top;\n    }\n\n    .dataframe thead th {\n        text-align: right;\n    }\n</style>\n<table border=\"1\" class=\"dataframe\">\n  <thead>\n    <tr style=\"text-align: right;\">\n      <th></th>\n      <th>Input</th>\n      <th>Generated</th>\n      <th>ID</th>\n    </tr>\n  </thead>\n  <tbody>\n    <tr>\n      <th>0</th>\n      <td>1 Gallon Milk, 24 oz Bread, Dozen Eggs</td>\n      <td>1. Organic Butter\\n2. Avocado\\n3. Granola</td>\n      <td>1</td>\n    </tr>\n    <tr>\n      <th>1</th>\n      <td>16 oz Toothpaste, 12 oz Shampoo, 8 oz Soap</td>\n      <td>1. Mouthwash\\n2. Hair conditioner\\n3. Body lotion</td>\n      <td>2</td>\n    </tr>\n    <tr>\n      <th>2</th>\n      <td>5 lb Potatoes, 3 lb Onions, 1 lb Carrots</td>\n      <td>1. Bag of frozen mixed vegetables\\n2. Vegetabl...</td>\n      <td>3</td>\n    </tr>\n    <tr>\n      <th>3</th>\n      <td>2 lb Chicken, 1 lb Beef, 0.75 lb Salmon</td>\n      <td>1. Fresh herbs and spices\\n2. Organic mixed gr...</td>\n      <td>4</td>\n    </tr>\n    <tr>\n      <th>4</th>\n      <td>18 oz Cereal, 6 oz Yogurt, 1.5 oz Granola Bars</td>\n      <td>1. Multivitamins for seniors\\n2. Whole wheat t...</td>\n      <td>5</td>\n    </tr>\n    <tr>\n      <th>5</th>\n      <td>16 oz Pasta, 24 oz Tomato Sauce, 3 cloves Garlic</td>\n      <td>1. Parmesan cheese \\n2. Chianti wine \\n3. Arti...</td>\n      <td>6</td>\n    </tr>\n    <tr>\n      <th>6</th>\n      <td>Bunch of Bananas, 1 lb Grapes, 16 oz Strawberries</td>\n      <td>1. Watermelon\\n2. Blueberries\\n3. Greek Yogurt</td>\n      <td>7</td>\n    </tr>\n    <tr>\n      <th>7</th>\n      <td>8 oz Chips, 16 oz Salsa, 12 oz Guacamole, 10 c...</td>\n      <td>1. 16 oz Beer\\n2. 1 lb Ground Beef\\n3. 8 ct Ho...</td>\n      <td>8</td>\n    </tr>\n    <tr>\n      <th>8</th>\n      <td>6 Rolls Paper Towels, 12 Rolls Toilet Paper, 1...</td>\n      <td>1. Disinfectant Wipes\\n2. Hand Soap\\n3. Air Fr...</td>\n      <td>9</td>\n    </tr>\n    <tr>\n      <th>9</th>\n      <td>1.5 qt Ice Cream, 12 inch Frozen Pizza, 16 oz ...</td>\n      <td>1. Frozen Chicken Nuggets \\n2. Frozen French F...</td>\n      <td>10</td>\n    </tr>\n  </tbody>\n</table>\n</div>"
          },
          "metadata": {}
        }
      ],
      "execution_count": 4,
      "metadata": {
        "gather": {
          "logged": 1693500117244
        },
        "jupyter": {
          "outputs_hidden": false,
          "source_hidden": false
        },
        "nteract": {
          "transient": {
            "deleting": false
          }
        }
      }
    },
    {
      "cell_type": "code",
      "source": [
        "from snowflake.snowpark import Session\n",
        "connection_parameters = {\n",
        "    \"account\": \"<snowflake account>\", # e.g. SN00102.central-us.azure\n",
        "    \"user\": \"<username>\", \n",
        "    \"password\": \"<password>\",\n",
        "    \"role\": \"ACCOUNTADMIN\",\n",
        "    \"database\": \"retail_db\",\n",
        "    \"schema\": \"PUBLIC\",\n",
        "    \"warehouse\": \"SMALL_WH\"\n",
        "    }\n",
        "session = Session.builder.configs(connection_parameters).create()\n",
        "session.write_pandas(response_df, table_name='NBI_PROMO', auto_create_table=True, overwrite=True)"
      ],
      "outputs": [
        {
          "output_type": "execute_result",
          "execution_count": 5,
          "data": {
            "text/plain": "<snowflake.snowpark.table.Table at 0x7f0783de13a0>"
          },
          "metadata": {}
        }
      ],
      "execution_count": 5,
      "metadata": {
        "jupyter": {
          "outputs_hidden": false,
          "source_hidden": false
        },
        "nteract": {
          "transient": {
            "deleting": false
          }
        },
        "gather": {
          "logged": 1693500197213
        }
      }
    },
    {
      "cell_type": "code",
      "source": [],
      "outputs": [],
      "execution_count": null,
      "metadata": {
        "jupyter": {
          "source_hidden": false,
          "outputs_hidden": false
        },
        "nteract": {
          "transient": {
            "deleting": false
          }
        }
      }
    }
  ],
  "metadata": {
    "kernel_info": {
      "name": "python38-azureml"
    },
    "kernelspec": {
      "name": "python38-azureml",
      "language": "python",
      "display_name": "Python 3.8 - AzureML"
    },
    "language_info": {
      "name": "python",
      "version": "3.8.5",
      "mimetype": "text/x-python",
      "codemirror_mode": {
        "name": "ipython",
        "version": 3
      },
      "pygments_lexer": "ipython3",
      "nbconvert_exporter": "python",
      "file_extension": ".py"
    },
    "microsoft": {
      "host": {
        "AzureML": {
          "notebookHasBeenCompleted": true
        }
      },
      "ms_spell_check": {
        "ms_spell_check_language": "en"
      }
    },
    "nteract": {
      "version": "nteract-front-end@1.0.0"
    }
  },
  "nbformat": 4,
  "nbformat_minor": 2
}